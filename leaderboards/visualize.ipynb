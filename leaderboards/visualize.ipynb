{
 "cells": [
  {
   "cell_type": "code",
   "execution_count": null,
   "id": "5e23d194-35c1-4fd0-a96d-42e0f9d20b95",
   "metadata": {},
   "outputs": [],
   "source": [
    "import numpy as np\n",
    "import pandas as pd\n",
    "import matplotlib.pyplot as plt"
   ]
  },
  {
   "cell_type": "code",
   "execution_count": null,
   "id": "531553cb-e077-4f55-b0ec-9e4843d77aaa",
   "metadata": {},
   "outputs": [],
   "source": [
    "platformID_dict = {\n",
    "    0: 'Epic',\n",
    "    1: 'GOG',\n",
    "    2: 'Steam',\n",
    "    3: 'Xbox',\n",
    "    4: 'PlayStation',\n",
    "    5: 'Nintendo',\n",
    "    6: 'None',\n",
    "}"
   ]
  },
  {
   "cell_type": "code",
   "execution_count": null,
   "id": "36217beb-30a6-4c7e-bc72-0db9353ef128",
   "metadata": {},
   "outputs": [],
   "source": [
    "df_60s = pd.read_csv('logs/60s.csv')\n",
    "df_70s = pd.read_csv('logs/70s.csv')\n",
    "df_80s = pd.read_csv('logs/80s.csv')\n",
    "df_GroupB = pd.read_csv('logs/GroupB.csv')\n",
    "df_GroupS = pd.read_csv('logs/GroupS.csv')\n",
    "df_GroupA = pd.read_csv('logs/GroupA.csv')\n",
    "result = pd.concat([df_60s, df_70s, df_80s, df_GroupB, df_GroupS, df_GroupA])"
   ]
  },
  {
   "cell_type": "code",
   "execution_count": null,
   "id": "d98a75df-ed13-4ac4-9037-c3bed4acdbe5",
   "metadata": {},
   "outputs": [],
   "source": [
    "df_60s[(df_60s.area == 'Germany') & (df_60s.stage == 'Stage_1')]"
   ]
  },
  {
   "cell_type": "code",
   "execution_count": null,
   "id": "de05f338-8bdb-4ce0-a368-166a9aa44972",
   "metadata": {},
   "outputs": [],
   "source": [
    "df_60s[(df_60s.area == 'Germany')].groupby(['stage', 'direction']).count()"
   ]
  },
  {
   "cell_type": "code",
   "execution_count": null,
   "id": "fa635ec5-2cdb-48c5-aa6f-5189a7a31720",
   "metadata": {},
   "outputs": [],
   "source": [
    "result.groupby(['carClasse', 'area']).count()"
   ]
  },
  {
   "cell_type": "code",
   "execution_count": null,
   "id": "3a961c44-47d9-436e-a8f0-8c08491463ce",
   "metadata": {},
   "outputs": [],
   "source": []
  }
 ],
 "metadata": {
  "kernelspec": {
   "display_name": "Python 3 (ipykernel)",
   "language": "python",
   "name": "python3"
  },
  "language_info": {
   "codemirror_mode": {
    "name": "ipython",
    "version": 3
   },
   "file_extension": ".py",
   "mimetype": "text/x-python",
   "name": "python",
   "nbconvert_exporter": "python",
   "pygments_lexer": "ipython3",
   "version": "3.7.9"
  }
 },
 "nbformat": 4,
 "nbformat_minor": 5
}
