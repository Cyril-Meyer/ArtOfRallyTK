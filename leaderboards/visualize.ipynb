{
 "cells": [
  {
   "cell_type": "code",
   "execution_count": null,
   "id": "5e23d194-35c1-4fd0-a96d-42e0f9d20b95",
   "metadata": {},
   "outputs": [],
   "source": [
    "import numpy as np\n",
    "import pandas as pd\n",
    "import matplotlib.pyplot as plt\n",
    "import cars"
   ]
  },
  {
   "cell_type": "code",
   "execution_count": null,
   "id": "531553cb-e077-4f55-b0ec-9e4843d77aaa",
   "metadata": {},
   "outputs": [],
   "source": [
    "platformID_dict = {\n",
    "    0: 'Epic',\n",
    "    1: 'GOG',\n",
    "    2: 'Steam',\n",
    "    3: 'Xbox',\n",
    "    4: 'PlayStation',\n",
    "    5: 'Nintendo',\n",
    "    6: 'None',\n",
    "}"
   ]
  },
  {
   "cell_type": "code",
   "execution_count": null,
   "id": "36217beb-30a6-4c7e-bc72-0db9353ef128",
   "metadata": {},
   "outputs": [],
   "source": [
    "df_60s = pd.read_csv('logs/60s.csv')\n",
    "df_70s = pd.read_csv('logs/70s.csv')\n",
    "df_80s = pd.read_csv('logs/80s.csv')\n",
    "df_GroupB = pd.read_csv('logs/GroupB.csv')\n",
    "df_GroupS = pd.read_csv('logs/GroupS.csv')\n",
    "df_GroupA = pd.read_csv('logs/GroupA.csv')\n",
    "result = pd.concat([df_60s, df_70s, df_80s, df_GroupB, df_GroupS, df_GroupA])"
   ]
  },
  {
   "cell_type": "markdown",
   "id": "53e713f9-51b6-4674-a47a-2ca25cb4abac",
   "metadata": {
    "jp-MarkdownHeadingCollapsed": true,
    "tags": []
   },
   "source": [
    "**Most used car by group**"
   ]
  },
  {
   "cell_type": "code",
   "execution_count": null,
   "id": "b3f0818b-e7d5-4d3a-8725-4b863b2b8ec4",
   "metadata": {},
   "outputs": [],
   "source": [
    "limit = 50 # we don't consider rank when rank > limit"
   ]
  },
  {
   "cell_type": "code",
   "execution_count": null,
   "id": "14dc652f-a044-4900-9fcb-ff91c05d7700",
   "metadata": {},
   "outputs": [],
   "source": [
    "for c in df_60s['carID'].unique():\n",
    "    df_60s.loc[df_60s['carID'] == c, 'carID'] = cars.dict_60s.get(c)\n",
    "for c in df_70s['carID'].unique():\n",
    "    df_70s.loc[df_70s['carID'] == c, 'carID'] = cars.dict_70s.get(c)\n",
    "for c in df_80s['carID'].unique():\n",
    "    df_80s.loc[df_80s['carID'] == c, 'carID'] = cars.dict_80s.get(c)\n",
    "for c in df_GroupB['carID'].unique():\n",
    "    df_GroupB.loc[df_GroupB['carID'] == c, 'carID'] = cars.dict_GroupB.get(c)\n",
    "for c in df_GroupS['carID'].unique():\n",
    "    df_GroupS.loc[df_GroupS['carID'] == c, 'carID'] = cars.dict_GroupS.get(c)\n",
    "for c in df_GroupA['carID'].unique():\n",
    "    df_GroupA.loc[df_GroupA['carID'] == c, 'carID'] = cars.dict_GroupA.get(c)"
   ]
  },
  {
   "cell_type": "code",
   "execution_count": null,
   "id": "bd986fa0-4e4f-4f0f-ac55-3f7bfe0fbc7f",
   "metadata": {},
   "outputs": [],
   "source": [
    "maxi = ((result[result['rank'] <= limit].groupby(['carID', 'carClasse']).count().sort_values('rank', ascending=False)['rank'].max() // 100)+1) * 100\n",
    "for df, title in [(df_60s, '60s'), (df_70s, '70s'), (df_80s, '80s'), (df_GroupB, 'GroupB'), (df_GroupS, 'GroupS'), (df_GroupA, 'GroupA')]:\n",
    "    if df[df['rank'] <= limit].groupby('carID').count().sort_values('rank', ascending=False).sum()['rank'] != 3600:\n",
    "        raise ValueError\n",
    "    df[df['rank'] <= limit].groupby('carID').count().sort_values('rank', ascending=False)['rank'].plot(kind='bar', title=f'{title} : Top {limit} used car', xlabel='car name', ylim=(0, maxi), figsize=(len(df['carID'].unique())*1,6))\n",
    "    plt.xticks(rotation=30)\n",
    "    plt.tight_layout()\n",
    "    plt.savefig(f'logs_view/{title}_top{limit}_cars.png')\n",
    "    plt.show()"
   ]
  },
  {
   "cell_type": "markdown",
   "id": "32ff33d1-a25e-4727-8c00-92682165710f",
   "metadata": {},
   "source": [
    "**Best player by group**"
   ]
  },
  {
   "cell_type": "code",
   "execution_count": null,
   "id": "3456b611-14da-49ed-b3c5-1b030312d231",
   "metadata": {},
   "outputs": [],
   "source": [
    "limit = 200 # we don't consider rank when rank > limit"
   ]
  },
  {
   "cell_type": "markdown",
   "id": "8bb33c82-b1fc-4282-9e49-b2d2fac1f5b2",
   "metadata": {},
   "source": [
    "**Best player all groups**"
   ]
  },
  {
   "cell_type": "code",
   "execution_count": null,
   "id": "3110eed1-b242-44cf-bd50-c96e15dbd307",
   "metadata": {},
   "outputs": [],
   "source": [
    "limit = 200 # we don't consider rank when rank > limit"
   ]
  },
  {
   "cell_type": "code",
   "execution_count": null,
   "id": "3a961c44-47d9-436e-a8f0-8c08491463ce",
   "metadata": {},
   "outputs": [],
   "source": []
  }
 ],
 "metadata": {
  "kernelspec": {
   "display_name": "Python 3 (ipykernel)",
   "language": "python",
   "name": "python3"
  },
  "language_info": {
   "codemirror_mode": {
    "name": "ipython",
    "version": 3
   },
   "file_extension": ".py",
   "mimetype": "text/x-python",
   "name": "python",
   "nbconvert_exporter": "python",
   "pygments_lexer": "ipython3",
   "version": "3.7.9"
  }
 },
 "nbformat": 4,
 "nbformat_minor": 5
}
