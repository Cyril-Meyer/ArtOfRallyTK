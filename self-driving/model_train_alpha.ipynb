{
 "cells": [
  {
   "cell_type": "code",
   "execution_count": null,
   "id": "e95eb904-5371-4f15-8873-062b3f30976a",
   "metadata": {},
   "outputs": [],
   "source": [
    "import tensorflow as tf\n",
    "import numpy as np\n",
    "import cv2\n",
    "import matplotlib.pyplot as plt\n",
    "from tqdm import trange"
   ]
  },
  {
   "cell_type": "code",
   "execution_count": null,
   "id": "fdb70f21-40d1-4369-899c-250ef3637ec1",
   "metadata": {},
   "outputs": [],
   "source": [
    "data_image  = np.load('data/images_128.npy')\n",
    "data_keys   = np.load('data/keys.npy')\n",
    "data_memory = np.load('data/memory.npy')"
   ]
  },
  {
   "cell_type": "code",
   "execution_count": null,
   "id": "ea0cd739-6937-4de5-b54f-7f278f2c5d55",
   "metadata": {},
   "outputs": [],
   "source": [
    "train_size = 9000\n",
    "train_X = data_image[0:train_size]\n",
    "train_Y = data_keys[0:train_size]\n",
    "valid_X = data_image[train_size:]\n",
    "valid_Y = data_keys[train_size:]"
   ]
  },
  {
   "cell_type": "code",
   "execution_count": null,
   "id": "63d9756a-7c47-4865-b4ab-09cef931cde0",
   "metadata": {},
   "outputs": [],
   "source": [
    "print(data_image.shape, data_image.dtype, data_image.min(), data_image.max())\n",
    "print(data_keys.shape, data_keys.dtype, data_keys.min(), data_keys.max())\n",
    "print(np.sum(data_keys, axis=0) / np.sum(data_keys))"
   ]
  },
  {
   "cell_type": "code",
   "execution_count": null,
   "id": "ddd819cd-c1f5-41dd-b732-96b370d8ca7a",
   "metadata": {},
   "outputs": [],
   "source": [
    "sets = []\n",
    "for unique in np.unique(data_keys, axis=0):\n",
    "    sets.append([])\n",
    "i = 0\n",
    "for unique in np.unique(data_keys, axis=0):\n",
    "    for z in data_keys:\n",
    "        if (z == unique).all():\n",
    "            sets[i].append(z)\n",
    "    i+=1\n",
    "i = 0\n",
    "for unique in np.unique(data_keys, axis=0):\n",
    "    print(unique, len(sets[i]))\n",
    "    i+=1"
   ]
  },
  {
   "cell_type": "code",
   "execution_count": null,
   "id": "42bbbd96-48d8-4dcd-b5c6-529aba8fe769",
   "metadata": {},
   "outputs": [],
   "source": [
    "weight_up = 0.25\n",
    "weight_direction = 1\n",
    "weight_down = 1.5\n",
    "class_weight = {0: weight_up, 1: weight_direction, 2: weight_down, 3: weight_direction}"
   ]
  },
  {
   "cell_type": "code",
   "execution_count": null,
   "id": "411f6574-9549-4961-9dd2-26449a072c10",
   "metadata": {},
   "outputs": [],
   "source": [
    "# model = tf.keras.applications.MobileNetV3Small(\n",
    "model = tf.keras.applications.MobileNetV2(\n",
    "    input_shape=(128, 128, 3),\n",
    "    weights=None,\n",
    "    classes=4,\n",
    "    classifier_activation=\"sigmoid\")\n",
    "model.compile(optimizer=tf.keras.optimizers.Adam(),\n",
    "              loss=tf.keras.losses.MeanSquaredError(),\n",
    "              metrics=[tf.keras.metrics.MeanSquaredError()])"
   ]
  },
  {
   "cell_type": "code",
   "execution_count": null,
   "id": "2c584c63-1488-47c7-ade3-681430be411c",
   "metadata": {},
   "outputs": [],
   "source": [
    "model_checkpoint_callback = tf.keras.callbacks.ModelCheckpoint(\n",
    "    filepath='model_alpha_best',\n",
    "    save_weights_only=False,\n",
    "    save_best_only=True)"
   ]
  },
  {
   "cell_type": "code",
   "execution_count": null,
   "id": "7e4862f5-04f7-4325-9fbb-1c558f7252a7",
   "metadata": {},
   "outputs": [],
   "source": [
    "model.fit(train_X, train_Y, shuffle=True,\n",
    "          validation_data=(valid_X, valid_Y),\n",
    "          epochs=100, batch_size=32, class_weight=class_weight,\n",
    "          verbose=2,\n",
    "         callbacks=[model_checkpoint_callback])"
   ]
  },
  {
   "cell_type": "code",
   "execution_count": null,
   "id": "958255c0-b472-4672-bb09-656ce30492bb",
   "metadata": {},
   "outputs": [],
   "source": [
    "model = tf.keras.models.load_model('model_alpha_best')"
   ]
  },
  {
   "cell_type": "code",
   "execution_count": null,
   "id": "a5c92c3d-212b-476a-854f-5dd8f2be99f1",
   "metadata": {},
   "outputs": [],
   "source": [
    "bs = 100\n",
    "predict = np.zeros(valid_Y.shape, dtype=data_keys.dtype)\n",
    "for z in trange(0, valid_Y.shape[0], bs):\n",
    "    y = ((model.predict(valid_X[z:z+bs])>0.5)[0:bs]*1.0)\n",
    "    predict[z:z+bs] = y"
   ]
  },
  {
   "cell_type": "code",
   "execution_count": null,
   "id": "575635d3-b83d-43bf-9fd5-f3f94ddba171",
   "metadata": {},
   "outputs": [],
   "source": [
    "print(np.sum(valid_Y, axis=0) / np.sum(valid_Y))\n",
    "print(np.sum(predict, axis=0) / np.sum(predict))"
   ]
  },
  {
   "cell_type": "code",
   "execution_count": null,
   "id": "74c0ed40-8d94-41cc-b703-5b39a871a367",
   "metadata": {},
   "outputs": [],
   "source": []
  }
 ],
 "metadata": {
  "kernelspec": {
   "display_name": "Python 3 (ipykernel)",
   "language": "python",
   "name": "python3"
  },
  "language_info": {
   "codemirror_mode": {
    "name": "ipython",
    "version": 3
   },
   "file_extension": ".py",
   "mimetype": "text/x-python",
   "name": "python",
   "nbconvert_exporter": "python",
   "pygments_lexer": "ipython3",
   "version": "3.7.9"
  }
 },
 "nbformat": 4,
 "nbformat_minor": 5
}
