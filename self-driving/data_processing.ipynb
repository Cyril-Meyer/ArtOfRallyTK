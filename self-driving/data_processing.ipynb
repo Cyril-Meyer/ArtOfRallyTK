{
 "cells": [
  {
   "cell_type": "code",
   "execution_count": null,
   "id": "9c71e3b1-4287-4785-aff3-2d512cff472e",
   "metadata": {},
   "outputs": [],
   "source": [
    "from os import listdir\n",
    "from os.path import isfile, join\n",
    "\n",
    "import numpy as np\n",
    "import cv2\n",
    "import matplotlib.pyplot as plt"
   ]
  },
  {
   "cell_type": "code",
   "execution_count": null,
   "id": "986f9264-f451-4af2-945f-b19357748fcc",
   "metadata": {},
   "outputs": [],
   "source": [
    "def view_image(img):\n",
    "    if len(img.shape) == 3:\n",
    "        plt.imshow(img[:, :, [2, 1, 0]])\n",
    "    else:\n",
    "        plt.imshow(img, cmap='gray')\n",
    "    plt.show()"
   ]
  },
  {
   "cell_type": "code",
   "execution_count": null,
   "id": "d3e5265b-aba0-4491-b957-bfc175e93d70",
   "metadata": {},
   "outputs": [],
   "source": [
    "data_folder = 'data_raw'\n",
    "files = [f[0:16] for f in listdir(data_folder) if isfile(join(data_folder, f))]\n",
    "files = np.unique(files)\n",
    "sorted(files)"
   ]
  },
  {
   "cell_type": "code",
   "execution_count": null,
   "id": "8d810bd3-2248-48e4-be4b-f7c5a2d9cbbf",
   "metadata": {},
   "outputs": [],
   "source": [
    "data_image = []\n",
    "data_keys = []\n",
    "data_memory = []\n",
    "\n",
    "codenames = ['FIN_HAA_F_MOR_01', 'FIN_KAI_F_MOR_01', 'FIN_LAM_F_MOR_01', 'FIN_LAS_F_MOR_01', 'FIN_LAS_R_MOR_01', 'FIN_NOO_F_MOR_01', 'FIN_NOO_R_MOR_01', 'FIN_PAL_F_MOR_01']\n",
    "for codename in codenames:\n",
    "    images = np.load(f'./data_raw/{codename}_images.npy')\n",
    "    keys = np.load(f'./data_raw/{codename}_keys.npy')\n",
    "    memory = np.load(f'./data_raw/{codename}_memory.npy')\n",
    "    # print(images.shape, keys.shape, memory.shape)\n",
    "    print(len(images))\n",
    "    assert len(images) == len(keys) == len(memory)\n",
    "    \n",
    "    data_image.append(images)\n",
    "    data_keys.append(keys)\n",
    "    data_memory.append(memory)\n",
    "    \n",
    "    del images, keys, memory\n",
    "\n",
    "data_image = np.concatenate(data_image).astype(np.uint8)\n",
    "data_keys = np.concatenate(data_keys).astype(np.float32)\n",
    "data_memory = np.concatenate(data_memory).astype(np.float32)\n",
    "print(data_image.shape, data_keys.shape, data_memory.shape)\n",
    "print(data_image.dtype, data_keys.dtype, data_memory.dtype)"
   ]
  },
  {
   "cell_type": "code",
   "execution_count": null,
   "id": "a8f876db-4146-4b35-b6eb-ae3325c12795",
   "metadata": {},
   "outputs": [],
   "source": [
    "print(data_image.shape, data_image.dtype, data_image.min(), data_image.max())\n",
    "view_image(data_image[0])"
   ]
  },
  {
   "cell_type": "code",
   "execution_count": null,
   "id": "9fe09ea9-b0c0-463a-9660-fe98368d4237",
   "metadata": {},
   "outputs": [],
   "source": [
    "data_image_tmp = []\n",
    "for i in range(len(data_image)):\n",
    "    img = data_image[i]\n",
    "    img = cv2.Canny(img, threshold1=150, threshold2=250)\n",
    "    img = cv2.resize(img, (128, 128))\n",
    "    data_image_tmp.append(img)\n",
    "data_image_canny = np.array(data_image_tmp).astype(np.float32) / 255.0\n",
    "del data_image_tmp"
   ]
  },
  {
   "cell_type": "code",
   "execution_count": null,
   "id": "27350c8d-ad25-4f2b-b445-6caf5d700c5b",
   "metadata": {},
   "outputs": [],
   "source": [
    "print(data_image_canny.shape, data_image_canny.dtype, data_image_canny.min(), data_image_canny.max())\n",
    "view_image(data_image_canny[0])\n",
    "\n",
    "np.save('data/images_canny_128.npy', data_image_canny)\n",
    "del data_image_canny"
   ]
  },
  {
   "cell_type": "code",
   "execution_count": null,
   "id": "fe139a9d-5a3b-4d59-b5a0-e957b8fc13dd",
   "metadata": {},
   "outputs": [],
   "source": [
    "data_image_tmp = []\n",
    "for i in range(len(data_image)):\n",
    "    data_image_tmp.append(cv2.resize(data_image[i], (128, 128)))\n",
    "data_image = np.array(data_image_tmp).astype(np.float32)[..., 0:3] / 255.0\n",
    "del data_image_tmp"
   ]
  },
  {
   "cell_type": "code",
   "execution_count": null,
   "id": "03a3755a-36b6-4a45-9736-6efdc6210b35",
   "metadata": {},
   "outputs": [],
   "source": [
    "print(data_image.shape, data_image.dtype, data_image.min(), data_image.max())\n",
    "view_image(data_image[0])\n",
    "\n",
    "np.save('data/images_128.npy', data_image)"
   ]
  },
  {
   "cell_type": "code",
   "execution_count": null,
   "id": "aef04f68-eb03-4a85-a7e8-f60063e9876f",
   "metadata": {},
   "outputs": [],
   "source": [
    "print(data_keys.shape, data_keys.dtype, data_keys.min(), data_keys.max())\n",
    "\n",
    "np.save('data/keys.npy', data_keys)"
   ]
  },
  {
   "cell_type": "code",
   "execution_count": null,
   "id": "67902ab0-eddb-4126-bb1b-4ef492cc6ffc",
   "metadata": {},
   "outputs": [],
   "source": [
    "data_memory[:, 0] = data_memory[:, 0] / 200\n",
    "print(data_memory.shape)\n",
    "print(data_memory[:, 0].shape, data_memory[:, 0].dtype, data_memory[:, 0].min(), data_memory[:, 0].max())\n",
    "print(data_memory[:, 1].shape, data_memory[:, 1].dtype, data_memory[:, 1].min(), data_memory[:, 1].max())\n",
    "\n",
    "np.save('data/memory.npy', data_memory)"
   ]
  },
  {
   "cell_type": "code",
   "execution_count": null,
   "id": "9956530f-ce1b-41da-b1d4-8ec1613c664e",
   "metadata": {},
   "outputs": [],
   "source": []
  }
 ],
 "metadata": {
  "kernelspec": {
   "display_name": "Python 3 (ipykernel)",
   "language": "python",
   "name": "python3"
  },
  "language_info": {
   "codemirror_mode": {
    "name": "ipython",
    "version": 3
   },
   "file_extension": ".py",
   "mimetype": "text/x-python",
   "name": "python",
   "nbconvert_exporter": "python",
   "pygments_lexer": "ipython3",
   "version": "3.7.9"
  }
 },
 "nbformat": 4,
 "nbformat_minor": 5
}
