{
 "cells": [
  {
   "cell_type": "code",
   "execution_count": null,
   "id": "27bfea24-53cc-4049-b136-d68c2533356c",
   "metadata": {},
   "outputs": [],
   "source": [
    "import os\n",
    "import numpy as np\n",
    "import pandas as pd\n",
    "import matplotlib.pyplot as plt\n",
    "import sklearn.metrics"
   ]
  },
  {
   "cell_type": "code",
   "execution_count": null,
   "id": "bf62af12-81f4-4a20-978c-fe705d4dacc4",
   "metadata": {},
   "outputs": [],
   "source": [
    "data = []\n",
    "folder = 'dashboard_logs'\n",
    "for filename in os.listdir(folder):\n",
    "    if 'flat' in filename:\n",
    "        f = os.path.join(folder, filename)\n",
    "        if os.path.isfile(f) and f[-4:] == '.csv':\n",
    "            data.append((filename[:-4], pd.read_csv(f)))"
   ]
  },
  {
   "cell_type": "code",
   "execution_count": null,
   "id": "d98a666c-e790-4345-8e0e-bad90deee722",
   "metadata": {},
   "outputs": [],
   "source": [
    "print('| Car           | run max speed | 0-75   | 0-100  | 0-120  | 0-150  | 15s AUC  | 5s AUC   |')\n",
    "print('|---------------|---------------|--------|--------|--------|--------|----------|----------|')\n",
    "data_plot = []\n",
    "for car, df in data:\n",
    "    # remove before start\n",
    "    df = df[df.speed > 1]\n",
    "    df.time = df.time - df.iloc[0]['time']\n",
    "    \n",
    "    print(f\"|{car:>14} |\"+\n",
    "          f\"{np.max(df.speed):>15}|\"+\n",
    "          f\"{df.time[df['speed'] > 75].tolist()[0]/1000:>8}|\"+\n",
    "          f\"{df.time[df['speed'] > 100].tolist()[0]/1000:>8}|\"+\n",
    "          f\"{df.time[df['speed'] > 120].tolist()[0]/1000:>8}|\"+\n",
    "          f\"{df.time[df['speed'] > 150].tolist()[0]/1000:>8}|\", end='')\n",
    "    \n",
    "    # keep 15s\n",
    "    df = df[df.time < 15000]\n",
    "    \n",
    "    time = df.time\n",
    "    speed = df.speed.tolist()\n",
    "    acceleration = df.speed.diff()\n",
    "    time_rolling = df.time.rolling(20)\n",
    "    acceleration_rolling = df.speed.diff().rolling(20)\n",
    "    \n",
    "    auc = sklearn.metrics.auc(df.time.tolist(), df.speed.tolist())\n",
    "    print(f'{round(auc/10):>10}|', end='')\n",
    "    \n",
    "    # keep 5s\n",
    "    df = df[df.time < 5000]\n",
    "    \n",
    "    auc = sklearn.metrics.auc(df.time.tolist(), df.speed.tolist())\n",
    "    print(f'{round(auc/10):>10}|')\n",
    "    \n",
    "    # save\n",
    "    data_plot.append((car, time, speed, acceleration, time_rolling, acceleration_rolling))"
   ]
  },
  {
   "cell_type": "code",
   "execution_count": null,
   "id": "e9bb10d1-b09b-4ee1-9c8b-1370a67282dc",
   "metadata": {},
   "outputs": [],
   "source": [
    "fig = plt.figure(figsize=(16, 8))\n",
    "for car, time, speed, acceleration, time_rolling, acceleration_rolling in data_plot:\n",
    "    plt.plot(time, speed, label=car)\n",
    "plt.ylim(0, 210)\n",
    "plt.title('speed')\n",
    "plt.legend(loc='best')\n",
    "plt.savefig(folder + '/speed.png')\n",
    "plt.show()\n",
    "\n",
    "fig = plt.figure(figsize=(16, 8))\n",
    "for car, time, speed, acceleration, time_rolling, acceleration_rolling in data_plot:\n",
    "    plt.plot(time, speed, label=car)\n",
    "plt.xlim(0, 5000)\n",
    "plt.ylim(0, 150)\n",
    "plt.title('speed 5s')\n",
    "plt.legend(loc='best')\n",
    "plt.savefig(folder + '/speed_5s.png')\n",
    "plt.show()\n",
    "\n",
    "fig = plt.figure(figsize=(16, 8))\n",
    "for car, time, speed, acceleration, time_rolling, acceleration_rolling in data_plot:\n",
    "    plt.plot(time, acceleration, label=car)\n",
    "plt.title('acceleration')\n",
    "plt.legend(loc='best')\n",
    "plt.savefig(folder + '/acceleration.png')\n",
    "plt.show()\n",
    "\n",
    "fig = plt.figure(figsize=(16, 8))\n",
    "for car, time, speed, acceleration, time_rolling, acceleration_rolling in data_plot:\n",
    "    plt.plot(time_rolling.sum().tolist(), acceleration_rolling.sum().tolist(), label=car)\n",
    "plt.title('acceleration smoothed')\n",
    "plt.legend(loc='best')\n",
    "plt.savefig(folder + '/acceleration_smoothed.png')\n",
    "plt.show()"
   ]
  },
  {
   "cell_type": "code",
   "execution_count": null,
   "id": "79d6bab4-ca88-4875-a815-fdd619949bc2",
   "metadata": {},
   "outputs": [],
   "source": []
  }
 ],
 "metadata": {
  "kernelspec": {
   "display_name": "Python 3 (ipykernel)",
   "language": "python",
   "name": "python3"
  },
  "language_info": {
   "codemirror_mode": {
    "name": "ipython",
    "version": 3
   },
   "file_extension": ".py",
   "mimetype": "text/x-python",
   "name": "python",
   "nbconvert_exporter": "python",
   "pygments_lexer": "ipython3",
   "version": "3.7.9"
  }
 },
 "nbformat": 4,
 "nbformat_minor": 5
}
